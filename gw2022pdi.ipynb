{
  "nbformat": 4,
  "nbformat_minor": 0,
  "metadata": {
    "colab": {
      "provenance": [],
      "authorship_tag": "ABX9TyP+yizpPubtSGYjY0BGrQ7/",
      "include_colab_link": true
    },
    "kernelspec": {
      "name": "python3",
      "display_name": "Python 3"
    },
    "language_info": {
      "name": "python"
    }
  },
  "cells": [
    {
      "cell_type": "markdown",
      "metadata": {
        "id": "view-in-github",
        "colab_type": "text"
      },
      "source": [
        "<a href=\"https://colab.research.google.com/github/Binay1510/Python-training/blob/master/gw2022pdi.ipynb\" target=\"_parent\"><img src=\"https://colab.research.google.com/assets/colab-badge.svg\" alt=\"Open In Colab\"/></a>"
      ]
    },
    {
      "cell_type": "markdown",
      "source": [
        "let us learn machine learning\n"
      ],
      "metadata": {
        "id": "A5vE53YvrLWr"
      }
    },
    {
      "cell_type": "code",
      "source": [
        "a=10\n",
        "b=20\n",
        "c=a+b\n",
        "c"
      ],
      "metadata": {
        "colab": {
          "base_uri": "https://localhost:8080/"
        },
        "id": "URJA-pxNrQgV",
        "outputId": "f5180f9a-34a1-4136-be8f-54bb5e4bd93e"
      },
      "execution_count": null,
      "outputs": [
        {
          "output_type": "execute_result",
          "data": {
            "text/plain": [
              "30"
            ]
          },
          "metadata": {},
          "execution_count": 1
        }
      ]
    },
    {
      "cell_type": "markdown",
      "source": [
        "Problems in ML:\n",
        "1. Regression - prediction\n",
        "2. Classifiaction - classify objs"
      ],
      "metadata": {
        "id": "D0iNVSe3rc_Y"
      }
    },
    {
      "cell_type": "markdown",
      "source": [
        "observation\n",
        "1. 700 ,800 ,1\n",
        "2. 1200,1000,1\n",
        "3. 150,100,2\n",
        "4. 300,350,2\n"
      ],
      "metadata": {
        "id": "q1v1qCoTsMEe"
      }
    },
    {
      "cell_type": "code",
      "source": [
        "from sklearn import tree\n",
        "\n",
        "#input\n",
        "X = [[700, 800], [1200, 1000], [150, 100], [300, 350]]\n",
        "#output\n",
        "Y=  [1,2,2,2]\n",
        "\n",
        "model=tree.DecisionTreeClassifier()\n",
        "model.fit(X ,Y)\n",
        "\n",
        "result=model.predict([[250,180]])\n",
        "print(result)\n",
        "print(type(result))"
      ],
      "metadata": {
        "colab": {
          "base_uri": "https://localhost:8080/"
        },
        "id": "jt6dFR6ItZmU",
        "outputId": "42eb4cb5-6aec-4851-bc1d-e3b798e5b4fd"
      },
      "execution_count": 1,
      "outputs": [
        {
          "output_type": "stream",
          "name": "stdout",
          "text": [
            "[2]\n",
            "<class 'numpy.ndarray'>\n"
          ]
        }
      ]
    },
    {
      "cell_type": "code",
      "source": [
        "import numpy as np\n",
        "np.__version__"
      ],
      "metadata": {
        "colab": {
          "base_uri": "https://localhost:8080/",
          "height": 36
        },
        "id": "MkJOtXN1YSUS",
        "outputId": "dd3f43b5-f30c-4df0-c760-8f738d0f7e5d"
      },
      "execution_count": 2,
      "outputs": [
        {
          "output_type": "execute_result",
          "data": {
            "text/plain": [
              "'1.21.6'"
            ],
            "application/vnd.google.colaboratory.intrinsic+json": {
              "type": "string"
            }
          },
          "metadata": {},
          "execution_count": 2
        }
      ]
    },
    {
      "cell_type": "code",
      "source": [
        "numbers=[10,20,30,40,50]\n",
        "print(numbers,type(numbers))"
      ],
      "metadata": {
        "colab": {
          "base_uri": "https://localhost:8080/"
        },
        "id": "-9HFuGJTYaoI",
        "outputId": "826b5dde-61c9-4773-f6a6-4ad6a4cdf1c3"
      },
      "execution_count": 3,
      "outputs": [
        {
          "output_type": "stream",
          "name": "stdout",
          "text": [
            "[10, 20, 30, 40, 50] <class 'list'>\n"
          ]
        }
      ]
    },
    {
      "cell_type": "code",
      "source": [
        "array = np.array(numbers)\n",
        "print(array, type(array))"
      ],
      "metadata": {
        "colab": {
          "base_uri": "https://localhost:8080/"
        },
        "id": "WRuy-RC0YlE9",
        "outputId": "8a7ae5b2-daee-4126-8886-27431497d64f"
      },
      "execution_count": 4,
      "outputs": [
        {
          "output_type": "stream",
          "name": "stdout",
          "text": [
            "[10 20 30 40 50] <class 'numpy.ndarray'>\n"
          ]
        }
      ]
    },
    {
      "cell_type": "code",
      "source": [
        "array = np.arange(10)\n",
        "print(array)\n",
        "print(array.shape)\n",
        "\n",
        "image = [ [120, 22, 66], [22, 12, 88], [67, 12, 56] ]\n",
        "array2d = np.array(image)\n",
        "print(array2d)\n",
        "print(array2d.shape)\n",
        "\n",
        "# Explore Slicing on 1d and 2d array :)"
      ],
      "metadata": {
        "colab": {
          "base_uri": "https://localhost:8080/"
        },
        "id": "a3Lxukx7aRl3",
        "outputId": "4462c098-91fd-40dd-9de7-6e12c6ac4421"
      },
      "execution_count": 5,
      "outputs": [
        {
          "output_type": "stream",
          "name": "stdout",
          "text": [
            "[0 1 2 3 4 5 6 7 8 9]\n",
            "(10,)\n",
            "[[120  22  66]\n",
            " [ 22  12  88]\n",
            " [ 67  12  56]]\n",
            "(3, 3)\n"
          ]
        }
      ]
    },
    {
      "cell_type": "code",
      "source": [
        "numbers = [1, 1, 1, 1, 1, 1, 1, 1]\n",
        "numbers = [0, 0, 0, 0, 0, 0, 0, 0]\n",
        "print(numbers, len(numbers))\n",
        "\n",
        "# array1 = np.ones(8)\n",
        "# array1 = np.ones(8, dtype=np.int32)\n",
        "array1 = np.zeros(8, dtype=np.int32)\n",
        "print(array1)\n",
        "\n",
        "print(array1.ndim)\n",
        "print(array1.shape)\n",
        "\n",
        "array2 = array1.reshape(2, 2, 2)\n",
        "print(array2)\n",
        "print(array2.ndim)\n",
        "print(array2.shape)\n",
        "\n",
        "array3 = array2.ravel()\n",
        "print(array3)"
      ],
      "metadata": {
        "colab": {
          "base_uri": "https://localhost:8080/"
        },
        "id": "zk6oZ50XaZBd",
        "outputId": "b4591afd-c9f5-4d68-ede3-f06fa7b57829"
      },
      "execution_count": 6,
      "outputs": [
        {
          "output_type": "stream",
          "name": "stdout",
          "text": [
            "[0, 0, 0, 0, 0, 0, 0, 0] 8\n",
            "[0 0 0 0 0 0 0 0]\n",
            "1\n",
            "(8,)\n",
            "[[[0 0]\n",
            "  [0 0]]\n",
            "\n",
            " [[0 0]\n",
            "  [0 0]]]\n",
            "3\n",
            "(2, 2, 2)\n",
            "[0 0 0 0 0 0 0 0]\n"
          ]
        }
      ]
    },
    {
      "cell_type": "code",
      "source": [
        "chessboard = np.zeros((8, 8), dtype=np.int32)\n",
        "print(chessboard)"
      ],
      "metadata": {
        "colab": {
          "base_uri": "https://localhost:8080/"
        },
        "id": "Xas5JSl3ac55",
        "outputId": "a94f9882-ea74-44f4-fbf8-52b261be46cb"
      },
      "execution_count": 7,
      "outputs": [
        {
          "output_type": "stream",
          "name": "stdout",
          "text": [
            "[[0 0 0 0 0 0 0 0]\n",
            " [0 0 0 0 0 0 0 0]\n",
            " [0 0 0 0 0 0 0 0]\n",
            " [0 0 0 0 0 0 0 0]\n",
            " [0 0 0 0 0 0 0 0]\n",
            " [0 0 0 0 0 0 0 0]\n",
            " [0 0 0 0 0 0 0 0]\n",
            " [0 0 0 0 0 0 0 0]]\n"
          ]
        }
      ]
    },
    {
      "cell_type": "code",
      "source": [
        "chessboard[1::2, 0::2] = 1\n",
        "chessboard[0::2, 1::2] = 1\n",
        "print(chessboard)\n"
      ],
      "metadata": {
        "colab": {
          "base_uri": "https://localhost:8080/"
        },
        "id": "K5k_uwVbae7f",
        "outputId": "054a937c-9a67-4155-8a84-22516fbd72e0"
      },
      "execution_count": 8,
      "outputs": [
        {
          "output_type": "stream",
          "name": "stdout",
          "text": [
            "[[0 1 0 1 0 1 0 1]\n",
            " [1 0 1 0 1 0 1 0]\n",
            " [0 1 0 1 0 1 0 1]\n",
            " [1 0 1 0 1 0 1 0]\n",
            " [0 1 0 1 0 1 0 1]\n",
            " [1 0 1 0 1 0 1 0]\n",
            " [0 1 0 1 0 1 0 1]\n",
            " [1 0 1 0 1 0 1 0]]\n"
          ]
        }
      ]
    },
    {
      "cell_type": "code",
      "source": [
        "import numpy as np\n"
      ],
      "metadata": {
        "id": "vRjZ4e70ahDh"
      },
      "execution_count": 9,
      "outputs": []
    },
    {
      "cell_type": "code",
      "source": [
        "A=list(range(1,11))\n",
        "print(A)\n",
        "print(A[1:7:2])"
      ],
      "metadata": {
        "colab": {
          "base_uri": "https://localhost:8080/"
        },
        "id": "pc9FuQRAamDw",
        "outputId": "1d219175-6f63-44aa-d1f0-5b018c30be1a"
      },
      "execution_count": 10,
      "outputs": [
        {
          "output_type": "stream",
          "name": "stdout",
          "text": [
            "[1, 2, 3, 4, 5, 6, 7, 8, 9, 10]\n",
            "[2, 4, 6]\n"
          ]
        }
      ]
    },
    {
      "cell_type": "code",
      "source": [
        "# B = np.arange(1, 11)\n",
        "B = np.arange(1, 11)\n",
        "print(B)\n",
        "print(B.shape)"
      ],
      "metadata": {
        "colab": {
          "base_uri": "https://localhost:8080/"
        },
        "id": "p2eucjhQbBin",
        "outputId": "39520d98-db4f-4532-9f44-40138270b22a"
      },
      "execution_count": 11,
      "outputs": [
        {
          "output_type": "stream",
          "name": "stdout",
          "text": [
            "[ 1  2  3  4  5  6  7  8  9 10]\n",
            "(10,)\n"
          ]
        }
      ]
    },
    {
      "cell_type": "code",
      "source": [
        "# Indexing\n",
        "print(B[3])\n",
        "print(B[6])\n",
        "\n",
        "# Slicing\n",
        "print(B[3:7])\n",
        "print(B[:7])\n",
        "print(B[3:])"
      ],
      "metadata": {
        "colab": {
          "base_uri": "https://localhost:8080/"
        },
        "id": "dSx0bQS7bDit",
        "outputId": "0a0faedf-03a3-40e6-e9f7-08ad6214d61e"
      },
      "execution_count": 12,
      "outputs": [
        {
          "output_type": "stream",
          "name": "stdout",
          "text": [
            "4\n",
            "7\n",
            "[4 5 6 7]\n",
            "[1 2 3 4 5 6 7]\n",
            "[ 4  5  6  7  8  9 10]\n"
          ]
        }
      ]
    },
    {
      "cell_type": "code",
      "source": [
        "# Step Slicing\n",
        "print(B[1:7:2])"
      ],
      "metadata": {
        "colab": {
          "base_uri": "https://localhost:8080/"
        },
        "id": "D8RRD5X9bHxo",
        "outputId": "b8a73a9d-5aa9-4b23-f1cb-6551520cf3f4"
      },
      "execution_count": 13,
      "outputs": [
        {
          "output_type": "stream",
          "name": "stdout",
          "text": [
            "[2 4 6]\n"
          ]
        }
      ]
    },
    {
      "cell_type": "code",
      "source": [
        "covid_data = np.array([\n",
        "    # col1 -> confirmed cases\n",
        "    # col2 -> recovered cases\n",
        "    # row1 -> ludhiana\n",
        "    # row2 -> jalandhar\n",
        "    # row3 -> chandigarh\n",
        "    [8, 9],\n",
        "    [10, 20],\n",
        "    [12, 14]\n",
        "])\n",
        "covid_data"
      ],
      "metadata": {
        "colab": {
          "base_uri": "https://localhost:8080/"
        },
        "id": "0YPItoFfbU_O",
        "outputId": "3941da3a-ac97-450c-ba2c-aae1dab974d5"
      },
      "execution_count": 14,
      "outputs": [
        {
          "output_type": "execute_result",
          "data": {
            "text/plain": [
              "array([[ 8,  9],\n",
              "       [10, 20],\n",
              "       [12, 14]])"
            ]
          },
          "metadata": {},
          "execution_count": 14
        }
      ]
    },
    {
      "cell_type": "code",
      "source": [
        "result = covid_data - 3\n",
        "print(result)\n"
      ],
      "metadata": {
        "colab": {
          "base_uri": "https://localhost:8080/"
        },
        "id": "V22RWujqbnNc",
        "outputId": "a97a434a-a6f5-4a3b-9ff2-f6a5fcfee1eb"
      },
      "execution_count": 15,
      "outputs": [
        {
          "output_type": "stream",
          "name": "stdout",
          "text": [
            "[[ 5  6]\n",
            " [ 7 17]\n",
            " [ 9 11]]\n"
          ]
        }
      ]
    },
    {
      "cell_type": "code",
      "source": [
        "covid_data[0:2, 1]"
      ],
      "metadata": {
        "colab": {
          "base_uri": "https://localhost:8080/"
        },
        "id": "pgrFSYSrbpfv",
        "outputId": "f39fb03a-1a16-479e-da53-c08d4ea65292"
      },
      "execution_count": 16,
      "outputs": [
        {
          "output_type": "execute_result",
          "data": {
            "text/plain": [
              "array([ 9, 20])"
            ]
          },
          "metadata": {},
          "execution_count": 16
        }
      ]
    },
    {
      "cell_type": "code",
      "source": [
        "print(covid_data.min())\n",
        "print(covid_data.max())\n",
        "print(covid_data.sum())\n"
      ],
      "metadata": {
        "colab": {
          "base_uri": "https://localhost:8080/"
        },
        "id": "30be8TSqbrWl",
        "outputId": "cd581e86-d428-4af8-ffb9-eada82e52246"
      },
      "execution_count": 17,
      "outputs": [
        {
          "output_type": "stream",
          "name": "stdout",
          "text": [
            "8\n",
            "20\n",
            "73\n"
          ]
        }
      ]
    },
    {
      "cell_type": "code",
      "source": [
        "array = np.arange(10, 200, 10)\n",
        "print(array)"
      ],
      "metadata": {
        "colab": {
          "base_uri": "https://localhost:8080/"
        },
        "id": "nF8Ifu_-btJS",
        "outputId": "5d4618df-f077-4ce4-bbed-276c9319f728"
      },
      "execution_count": 18,
      "outputs": [
        {
          "output_type": "stream",
          "name": "stdout",
          "text": [
            "[ 10  20  30  40  50  60  70  80  90 100 110 120 130 140 150 160 170 180\n",
            " 190]\n"
          ]
        }
      ]
    },
    {
      "cell_type": "code",
      "source": [
        "np.savetxt(\"numbers.txt\", array, delimiter=\" \")\n",
        "print(\"File Saved\")"
      ],
      "metadata": {
        "colab": {
          "base_uri": "https://localhost:8080/"
        },
        "id": "VZrA3-qNb3Yl",
        "outputId": "f6749f30-6706-4f9f-edb7-27c0636d73dc"
      },
      "execution_count": 19,
      "outputs": [
        {
          "output_type": "stream",
          "name": "stdout",
          "text": [
            "File Saved\n"
          ]
        }
      ]
    }
  ]
}