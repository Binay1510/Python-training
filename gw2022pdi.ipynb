{
  "nbformat": 4,
  "nbformat_minor": 0,
  "metadata": {
    "colab": {
      "provenance": [],
      "authorship_tag": "ABX9TyPeIYmBvb6Yz6g5yz0b1GbH",
      "include_colab_link": true
    },
    "kernelspec": {
      "name": "python3",
      "display_name": "Python 3"
    },
    "language_info": {
      "name": "python"
    }
  },
  "cells": [
    {
      "cell_type": "markdown",
      "metadata": {
        "id": "view-in-github",
        "colab_type": "text"
      },
      "source": [
        "<a href=\"https://colab.research.google.com/github/Binay1510/Python-training/blob/master/gw2022pdi.ipynb\" target=\"_parent\"><img src=\"https://colab.research.google.com/assets/colab-badge.svg\" alt=\"Open In Colab\"/></a>"
      ]
    },
    {
      "cell_type": "markdown",
      "source": [
        "let us learn machine learning\n"
      ],
      "metadata": {
        "id": "A5vE53YvrLWr"
      }
    },
    {
      "cell_type": "code",
      "source": [
        "a=10\n",
        "b=20\n",
        "c=a+b\n",
        "c"
      ],
      "metadata": {
        "colab": {
          "base_uri": "https://localhost:8080/"
        },
        "id": "URJA-pxNrQgV",
        "outputId": "f5180f9a-34a1-4136-be8f-54bb5e4bd93e"
      },
      "execution_count": null,
      "outputs": [
        {
          "output_type": "execute_result",
          "data": {
            "text/plain": [
              "30"
            ]
          },
          "metadata": {},
          "execution_count": 1
        }
      ]
    },
    {
      "cell_type": "markdown",
      "source": [
        "Problems in ML:\n",
        "1. Regression - prediction\n",
        "2. Classifiaction - classify objs"
      ],
      "metadata": {
        "id": "D0iNVSe3rc_Y"
      }
    },
    {
      "cell_type": "markdown",
      "source": [
        "observation\n",
        "1. 700 ,800 ,1\n",
        "2. 1200,1000,1\n",
        "3. 150,100,2\n",
        "4. 300,350,2\n"
      ],
      "metadata": {
        "id": "q1v1qCoTsMEe"
      }
    },
    {
      "cell_type": "code",
      "source": [
        "from sklearn import tree\n",
        "\n",
        "#input\n",
        "X = [[700, 800], [1200, 1000], [150, 100], [300, 350]]\n",
        "#output\n",
        "Y=  [1,2,2,2]\n",
        "\n",
        "model=tree.DecisionTreeClassifier()\n",
        "model.fit(X ,Y)\n",
        "\n",
        "result=model.predict([[250,180]])\n",
        "print(result)\n",
        "print(type(result))"
      ],
      "metadata": {
        "colab": {
          "base_uri": "https://localhost:8080/"
        },
        "id": "jt6dFR6ItZmU",
        "outputId": "42eb4cb5-6aec-4851-bc1d-e3b798e5b4fd"
      },
      "execution_count": 1,
      "outputs": [
        {
          "output_type": "stream",
          "name": "stdout",
          "text": [
            "[2]\n",
            "<class 'numpy.ndarray'>\n"
          ]
        }
      ]
    },
    {
      "cell_type": "code",
      "source": [
        "import numpy as np\n",
        "np.__version__"
      ],
      "metadata": {
        "colab": {
          "base_uri": "https://localhost:8080/",
          "height": 36
        },
        "id": "MkJOtXN1YSUS",
        "outputId": "dd3f43b5-f30c-4df0-c760-8f738d0f7e5d"
      },
      "execution_count": 2,
      "outputs": [
        {
          "output_type": "execute_result",
          "data": {
            "text/plain": [
              "'1.21.6'"
            ],
            "application/vnd.google.colaboratory.intrinsic+json": {
              "type": "string"
            }
          },
          "metadata": {},
          "execution_count": 2
        }
      ]
    },
    {
      "cell_type": "code",
      "source": [
        "numbers=[10,20,30,40,50]\n",
        "print(numbers,type(numbers))"
      ],
      "metadata": {
        "colab": {
          "base_uri": "https://localhost:8080/"
        },
        "id": "-9HFuGJTYaoI",
        "outputId": "826b5dde-61c9-4773-f6a6-4ad6a4cdf1c3"
      },
      "execution_count": 3,
      "outputs": [
        {
          "output_type": "stream",
          "name": "stdout",
          "text": [
            "[10, 20, 30, 40, 50] <class 'list'>\n"
          ]
        }
      ]
    },
    {
      "cell_type": "code",
      "source": [],
      "metadata": {
        "id": "WRuy-RC0YlE9"
      },
      "execution_count": null,
      "outputs": []
    }
  ]
}